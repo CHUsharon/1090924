{
  "nbformat": 4,
  "nbformat_minor": 0,
  "metadata": {
    "colab": {
      "name": "「IR.ipynb」的副本",
      "provenance": [],
      "collapsed_sections": [],
      "include_colab_link": true
    },
    "kernelspec": {
      "name": "ir",
      "display_name": "R"
    }
  },
  "cells": [
    {
      "cell_type": "markdown",
      "metadata": {
        "id": "view-in-github",
        "colab_type": "text"
      },
      "source": [
        "<a href=\"https://colab.research.google.com/github/CHUsharon/1090924/blob/master/%E3%80%8CIR_ipynb%E3%80%8D%E7%9A%84%E5%89%AF%E6%9C%AC.ipynb\" target=\"_parent\"><img src=\"https://colab.research.google.com/assets/colab-badge.svg\" alt=\"Open In Colab\"/></a>"
      ]
    },
    {
      "cell_type": "code",
      "metadata": {
        "id": "vNbGhp9ChA6Q",
        "colab_type": "code",
        "colab": {}
      },
      "source": [
        "my_w = 80\n",
        "my_h = 158\n"
      ],
      "execution_count": null,
      "outputs": []
    },
    {
      "cell_type": "code",
      "metadata": {
        "id": "7w9rC_LthS05",
        "colab_type": "code",
        "colab": {
          "base_uri": "https://localhost:8080/",
          "height": 34
        },
        "outputId": "9b948329-2f63-4f6d-fd68-743380df6ae0"
      },
      "source": [
        "my_w/(my_h/100)^2\n"
      ],
      "execution_count": null,
      "outputs": [
        {
          "output_type": "display_data",
          "data": {
            "text/plain": [
              "[1] 32.04615"
            ],
            "text/latex": "32.0461464508893",
            "text/markdown": "32.0461464508893",
            "text/html": [
              "32.0461464508893"
            ]
          },
          "metadata": {
            "tags": []
          }
        }
      ]
    }
  ]
}